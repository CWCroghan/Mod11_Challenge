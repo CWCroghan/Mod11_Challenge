{
 "cells": [
  {
   "cell_type": "markdown",
   "metadata": {},
   "source": [
    "# Module 12 Challenge\n",
    "## Deliverable 1: Scrape Titles and Preview Text from Mars News"
   ]
  },
  {
   "cell_type": "code",
   "execution_count": 1,
   "metadata": {},
   "outputs": [],
   "source": [
    "# Import Splinter and BeautifulSoup\n",
    "from splinter import Browser\n",
    "from bs4 import BeautifulSoup as soup\n",
    "from webdriver_manager.chrome import ChromeDriverManager"
   ]
  },
  {
   "cell_type": "code",
   "execution_count": 2,
   "metadata": {
    "scrolled": true
   },
   "outputs": [],
   "source": [
    "executable_path = {'executable_path': ChromeDriverManager().install()}\n",
    "browser = Browser('chrome', **executable_path, headless=False)"
   ]
  },
  {
   "cell_type": "markdown",
   "metadata": {},
   "source": [
    "### Step 1: Visit the Website\n",
    "\n",
    "1. Use automated browsing to visit the [Mars NASA news site](https://redplanetscience.com). Inspect the page to identify which elements to scrape.\n",
    "\n",
    "      > **Hint** To identify which elements to scrape, you might want to inspect the page by using Chrome DevTools."
   ]
  },
  {
   "cell_type": "code",
   "execution_count": 3,
   "metadata": {},
   "outputs": [],
   "source": [
    "# Visit the Mars NASA news site: https://redplanetscience.com\n",
    "# Visit the Mars NASA news site\n",
    "url = 'https://redplanetscience.com'\n",
    "browser.visit(url)"
   ]
  },
  {
   "cell_type": "markdown",
   "metadata": {},
   "source": [
    "### Step 2: Scrape the Website\n",
    "\n",
    "Create a Beautiful Soup object and use it to extract text elements from the website."
   ]
  },
  {
   "cell_type": "code",
   "execution_count": 4,
   "metadata": {},
   "outputs": [],
   "source": [
    "# Create a Beautiful Soup object\n",
    "html = browser.html\n",
    "soup = soup(html, 'html.parser')\n"
   ]
  },
  {
   "cell_type": "code",
   "execution_count": 5,
   "metadata": {},
   "outputs": [
    {
     "data": {
      "text/plain": [
       "True"
      ]
     },
     "execution_count": 5,
     "metadata": {},
     "output_type": "execute_result"
    }
   ],
   "source": [
    "browser.is_element_present_by_css('div.list_text', wait_time=1)"
   ]
  },
  {
   "cell_type": "code",
   "execution_count": 6,
   "metadata": {},
   "outputs": [
    {
     "name": "stdout",
     "output_type": "stream",
     "text": [
      "[<div class=\"list_text\">\n",
      "<div class=\"list_date\">March 6, 2023</div>\n",
      "<div class=\"content_title\">NASA's Perseverance Rover Bringing 3D-Printed Metal Parts to Mars</div>\n",
      "<div class=\"article_teaser_body\">For hobbyists and makers, 3D printing expands creative possibilities; for specialized engineers, it's also key to next-generation spacecraft design.</div>\n",
      "</div>, <div class=\"list_text\">\n",
      "<div class=\"list_date\">March 5, 2023</div>\n",
      "<div class=\"content_title\">NASA's Perseverance Mars Rover Gets Balanced</div>\n",
      "<div class=\"article_teaser_body\">The mission team performed a crucial weight-balancing test on the rover in preparation for this summer's history-making launch to the Red Planet.</div>\n",
      "</div>, <div class=\"list_text\">\n",
      "<div class=\"list_date\">March 5, 2023</div>\n",
      "<div class=\"content_title\">NASA's InSight 'Hears' Peculiar Sounds on Mars</div>\n",
      "<div class=\"article_teaser_body\">Listen to the marsquakes and other, less-expected sounds that the Mars lander has been detecting.</div>\n",
      "</div>, <div class=\"list_text\">\n",
      "<div class=\"list_date\">March 3, 2023</div>\n",
      "<div class=\"content_title\">Mars 2020 Stands on Its Own Six Wheels</div>\n",
      "<div class=\"article_teaser_body\">In time-lapse video, taken at JPL, captures the first time NASA's Mars 2020 rover carries its full weight on its legs and wheels.</div>\n",
      "</div>, <div class=\"list_text\">\n",
      "<div class=\"list_date\">February 27, 2023</div>\n",
      "<div class=\"content_title\">NASA's Mars Perseverance Rover Passes Flight Readiness Review</div>\n",
      "<div class=\"article_teaser_body\">​The agency's Mars 2020 mission has one more big prelaunch review – the Launch Readiness Review, on July 27.</div>\n",
      "</div>, <div class=\"list_text\">\n",
      "<div class=\"list_date\">February 24, 2023</div>\n",
      "<div class=\"content_title\">A Martian Roundtrip: NASA's Perseverance Rover Sample Tubes</div>\n",
      "<div class=\"article_teaser_body\">Marvels of engineering, the rover's sample tubes must be tough enough to safely bring Red Planet samples on the long journey back to Earth in immaculate condition. </div>\n",
      "</div>, <div class=\"list_text\">\n",
      "<div class=\"list_date\">February 23, 2023</div>\n",
      "<div class=\"content_title\">3 Things We've Learned From NASA's Mars InSight </div>\n",
      "<div class=\"article_teaser_body\">Scientists are finding new mysteries since the geophysics mission landed two years ago.</div>\n",
      "</div>, <div class=\"list_text\">\n",
      "<div class=\"list_date\">February 20, 2023</div>\n",
      "<div class=\"content_title\">NASA's Push to Save the Mars InSight Lander's Heat Probe</div>\n",
      "<div class=\"article_teaser_body\">The scoop on the end of the spacecraft's robotic arm will be used to 'pin' the mole against the wall of its hole.</div>\n",
      "</div>, <div class=\"list_text\">\n",
      "<div class=\"list_date\">February 20, 2023</div>\n",
      "<div class=\"content_title\">Follow NASA's Perseverance Rover in Real Time on Its Way to Mars</div>\n",
      "<div class=\"article_teaser_body\">A crisply rendered web application can show you where the agency's Mars 2020 mission is right now as it makes its way to the Red Planet for a Feb. 18, 2021, landing.</div>\n",
      "</div>, <div class=\"list_text\">\n",
      "<div class=\"list_date\">February 19, 2023</div>\n",
      "<div class=\"content_title\">NASA Invites Students to Name Mars 2020 Rover</div>\n",
      "<div class=\"article_teaser_body\">Through Nov. 1, K-12 students in the U.S. are encouraged to enter an essay contest to name NASA's next Mars rover.</div>\n",
      "</div>, <div class=\"list_text\">\n",
      "<div class=\"list_date\">February 18, 2023</div>\n",
      "<div class=\"content_title\">NASA's Perseverance Mars Rover Gets Its Wheels and Air Brakes</div>\n",
      "<div class=\"article_teaser_body\">After the rover was shipped from JPL to Kennedy Space Center, the team is getting closer to finalizing the spacecraft for launch later this summer.</div>\n",
      "</div>, <div class=\"list_text\">\n",
      "<div class=\"list_date\">February 13, 2023</div>\n",
      "<div class=\"content_title\">Space History Is Made in This NASA Robot Factory</div>\n",
      "<div class=\"article_teaser_body\">From rockets to rovers, JPL's Spacecraft Assembly Facility has been at the center of robotic spaceflight. Here's a closer look at what makes it so special.</div>\n",
      "</div>, <div class=\"list_text\">\n",
      "<div class=\"list_date\">February 13, 2023</div>\n",
      "<div class=\"content_title\">NASA's Mars 2020 Rover Completes Its First Drive</div>\n",
      "<div class=\"article_teaser_body\">In a 10-plus-hour marathon, the rover steered, turned and drove in 3-foot (1-meter) increments over small ramps.</div>\n",
      "</div>, <div class=\"list_text\">\n",
      "<div class=\"list_date\">February 8, 2023</div>\n",
      "<div class=\"content_title\">NASA's Curiosity Mars Rover Takes a New Selfie Before Record Climb</div>\n",
      "<div class=\"article_teaser_body\">Along with capturing an image before its steepest ascent ever, the robotic explorer filmed its \"selfie stick,\" or robotic arm, in action.</div>\n",
      "</div>, <div class=\"list_text\">\n",
      "<div class=\"list_date\">February 7, 2023</div>\n",
      "<div class=\"content_title\">NASA to Broadcast Mars 2020 Perseverance Launch, Prelaunch Activities</div>\n",
      "<div class=\"article_teaser_body\">Starting July 27, news activities will cover everything from mission engineering and science to returning samples from Mars to, of course, the launch itself.</div>\n",
      "</div>]\n"
     ]
    }
   ],
   "source": [
    "# Extract all the text elements\n",
    "elem = soup.select('div.list_text')\n",
    "print(elem)"
   ]
  },
  {
   "cell_type": "markdown",
   "metadata": {},
   "source": [
    "### Step 3: Store the Results\n",
    "\n",
    "Extract the titles and preview text of the news articles that you scraped. Store the scraping results in Python data structures as follows:\n",
    "\n",
    "* Store each title-and-preview pair in a Python dictionary. And, give each dictionary two keys: `title` and `preview`. An example is the following:\n",
    "\n",
    "  ```python\n",
    "  {'title': \"Mars Rover Begins Mission!\", \n",
    "        'preview': \"NASA's Mars Rover begins a multiyear mission to collect data about the little-explored planet.\"}\n",
    "  ```\n",
    "\n",
    "* Store all the dictionaries in a Python list.\n",
    "\n",
    "* Print the list in your notebook."
   ]
  },
  {
   "cell_type": "code",
   "execution_count": 7,
   "metadata": {},
   "outputs": [],
   "source": [
    "# Create an empty list to store the dictionaries\n",
    "articles = []"
   ]
  },
  {
   "cell_type": "code",
   "execution_count": 8,
   "metadata": {},
   "outputs": [],
   "source": [
    "# Loop through the text elements\n",
    "# Extract the title and preview text from the elements\n",
    "# Store each title and preview pair in a dictionary\n",
    "# Add the dictionary to the list\n",
    "\n",
    "for el in elem:\n",
    "    title = el.find('div', class_=\"content_title\").get_text()\n",
    "    preview = el.find('div', class_=\"article_teaser_body\").get_text()\n",
    "    dict = {'title':title, 'preview':preview}\n",
    "    articles.append(dict)"
   ]
  },
  {
   "cell_type": "code",
   "execution_count": 9,
   "metadata": {},
   "outputs": [
    {
     "name": "stdout",
     "output_type": "stream",
     "text": [
      "[{'title': \"NASA's Perseverance Rover Bringing 3D-Printed Metal Parts to Mars\", 'preview': \"For hobbyists and makers, 3D printing expands creative possibilities; for specialized engineers, it's also key to next-generation spacecraft design.\"}, {'title': \"NASA's Perseverance Mars Rover Gets Balanced\", 'preview': \"The mission team performed a crucial weight-balancing test on the rover in preparation for this summer's history-making launch to the Red Planet.\"}, {'title': \"NASA's InSight 'Hears' Peculiar Sounds on Mars\", 'preview': 'Listen to the marsquakes and other, less-expected sounds that the Mars lander has been detecting.'}, {'title': 'Mars 2020 Stands on Its Own Six Wheels', 'preview': \"In time-lapse video, taken at JPL, captures the first time NASA's Mars 2020 rover carries its full weight on its legs and wheels.\"}, {'title': \"NASA's Mars Perseverance Rover Passes Flight Readiness Review\", 'preview': \"\\u200bThe agency's Mars 2020 mission has one more big prelaunch review – the Launch Readiness Review, on July 27.\"}, {'title': \"A Martian Roundtrip: NASA's Perseverance Rover Sample Tubes\", 'preview': \"Marvels of engineering, the rover's sample tubes must be tough enough to safely bring Red Planet samples on the long journey back to Earth in immaculate condition. \"}, {'title': \"3 Things We've Learned From NASA's Mars InSight \", 'preview': 'Scientists are finding new mysteries since the geophysics mission landed two years ago.'}, {'title': \"NASA's Push to Save the Mars InSight Lander's Heat Probe\", 'preview': \"The scoop on the end of the spacecraft's robotic arm will be used to 'pin' the mole against the wall of its hole.\"}, {'title': \"Follow NASA's Perseverance Rover in Real Time on Its Way to Mars\", 'preview': \"A crisply rendered web application can show you where the agency's Mars 2020 mission is right now as it makes its way to the Red Planet for a Feb. 18, 2021, landing.\"}, {'title': 'NASA Invites Students to Name Mars 2020 Rover', 'preview': \"Through Nov. 1, K-12 students in the U.S. are encouraged to enter an essay contest to name NASA's next Mars rover.\"}, {'title': \"NASA's Perseverance Mars Rover Gets Its Wheels and Air Brakes\", 'preview': 'After the rover was shipped from JPL to Kennedy Space Center, the team is getting closer to finalizing the spacecraft for launch later this summer.'}, {'title': 'Space History Is Made in This NASA Robot Factory', 'preview': \"From rockets to rovers, JPL's Spacecraft Assembly Facility has been at the center of robotic spaceflight. Here's a closer look at what makes it so special.\"}, {'title': \"NASA's Mars 2020 Rover Completes Its First Drive\", 'preview': 'In a 10-plus-hour marathon, the rover steered, turned and drove in 3-foot (1-meter) increments over small ramps.'}, {'title': \"NASA's Curiosity Mars Rover Takes a New Selfie Before Record Climb\", 'preview': 'Along with capturing an image before its steepest ascent ever, the robotic explorer filmed its \"selfie stick,\" or robotic arm, in action.'}, {'title': 'NASA to Broadcast Mars 2020 Perseverance Launch, Prelaunch Activities', 'preview': 'Starting July 27, news activities will cover everything from mission engineering and science to returning samples from Mars to, of course, the launch itself.'}]\n"
     ]
    }
   ],
   "source": [
    "# Print the list to confirm success\n",
    "print(articles)"
   ]
  },
  {
   "cell_type": "code",
   "execution_count": 10,
   "metadata": {},
   "outputs": [],
   "source": [
    "browser.quit()"
   ]
  },
  {
   "cell_type": "markdown",
   "metadata": {},
   "source": [
    "### (Optional) Step 4: Export the Data\n",
    "\n",
    "Optionally, store the scraped data in a file or database (to ease sharing the data with others). To do so, export the scraped data to either a JSON file or a MongoDB database."
   ]
  },
  {
   "cell_type": "code",
   "execution_count": 11,
   "metadata": {},
   "outputs": [
    {
     "name": "stdout",
     "output_type": "stream",
     "text": [
      "[{\"title\": \"NASA's Perseverance Rover Bringing 3D-Printed Metal Parts to Mars\", \"preview\": \"For hobbyists and makers, 3D printing expands creative possibilities; for specialized engineers, it's also key to next-generation spacecraft design.\"}, {\"title\": \"NASA's Perseverance Mars Rover Gets Balanced\", \"preview\": \"The mission team performed a crucial weight-balancing test on the rover in preparation for this summer's history-making launch to the Red Planet.\"}, {\"title\": \"NASA's InSight 'Hears' Peculiar Sounds on Mars\", \"preview\": \"Listen to the marsquakes and other, less-expected sounds that the Mars lander has been detecting.\"}, {\"title\": \"Mars 2020 Stands on Its Own Six Wheels\", \"preview\": \"In time-lapse video, taken at JPL, captures the first time NASA's Mars 2020 rover carries its full weight on its legs and wheels.\"}, {\"title\": \"NASA's Mars Perseverance Rover Passes Flight Readiness Review\", \"preview\": \"\\u200bThe agency's Mars 2020 mission has one more big prelaunch review \\u2013 the Launch Readiness Review, on July 27.\"}, {\"title\": \"A Martian Roundtrip: NASA's Perseverance Rover Sample Tubes\", \"preview\": \"Marvels of engineering, the rover's sample tubes must be tough enough to safely bring Red Planet samples on the long journey back to Earth in immaculate condition. \"}, {\"title\": \"3 Things We've Learned From NASA's Mars InSight \", \"preview\": \"Scientists are finding new mysteries since the geophysics mission landed two years ago.\"}, {\"title\": \"NASA's Push to Save the Mars InSight Lander's Heat Probe\", \"preview\": \"The scoop on the end of the spacecraft's robotic arm will be used to 'pin' the mole against the wall of its hole.\"}, {\"title\": \"Follow NASA's Perseverance Rover in Real Time on Its Way to Mars\", \"preview\": \"A crisply rendered web application can show you where the agency's Mars 2020 mission is right now as it makes its way to the Red Planet for a Feb. 18, 2021, landing.\"}, {\"title\": \"NASA Invites Students to Name Mars 2020 Rover\", \"preview\": \"Through Nov. 1, K-12 students in the U.S. are encouraged to enter an essay contest to name NASA's next Mars rover.\"}, {\"title\": \"NASA's Perseverance Mars Rover Gets Its Wheels and Air Brakes\", \"preview\": \"After the rover was shipped from JPL to Kennedy Space Center, the team is getting closer to finalizing the spacecraft for launch later this summer.\"}, {\"title\": \"Space History Is Made in This NASA Robot Factory\", \"preview\": \"From rockets to rovers, JPL's Spacecraft Assembly Facility has been at the center of robotic spaceflight. Here's a closer look at what makes it so special.\"}, {\"title\": \"NASA's Mars 2020 Rover Completes Its First Drive\", \"preview\": \"In a 10-plus-hour marathon, the rover steered, turned and drove in 3-foot (1-meter) increments over small ramps.\"}, {\"title\": \"NASA's Curiosity Mars Rover Takes a New Selfie Before Record Climb\", \"preview\": \"Along with capturing an image before its steepest ascent ever, the robotic explorer filmed its \\\"selfie stick,\\\" or robotic arm, in action.\"}, {\"title\": \"NASA to Broadcast Mars 2020 Perseverance Launch, Prelaunch Activities\", \"preview\": \"Starting July 27, news activities will cover everything from mission engineering and science to returning samples from Mars to, of course, the launch itself.\"}]\n"
     ]
    }
   ],
   "source": [
    "# Export data to JSON\n",
    "import json\n",
    "jsonStr = json.dumps(articles)\n",
    "print(jsonStr)\n",
    "jsonFile = open(\"articles.json\", \"w\")\n",
    "jsonFile.write(jsonStr)\n",
    "jsonFile.close()"
   ]
  },
  {
   "cell_type": "code",
   "execution_count": 12,
   "metadata": {},
   "outputs": [],
   "source": [
    "# Export data to MongoDB\n"
   ]
  }
 ],
 "metadata": {
  "kernelspec": {
   "display_name": "Python 3 (ipykernel)",
   "language": "python",
   "name": "python3"
  },
  "language_info": {
   "codemirror_mode": {
    "name": "ipython",
    "version": 3
   },
   "file_extension": ".py",
   "mimetype": "text/x-python",
   "name": "python",
   "nbconvert_exporter": "python",
   "pygments_lexer": "ipython3",
   "version": "3.7.15"
  }
 },
 "nbformat": 4,
 "nbformat_minor": 4
}
